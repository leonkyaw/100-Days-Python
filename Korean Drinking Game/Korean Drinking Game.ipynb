{
 "cells": [
  {
   "cell_type": "markdown",
   "id": "fee8300a",
   "metadata": {},
   "source": [
    "# Korean Drinking Game"
   ]
  },
  {
   "cell_type": "markdown",
   "id": "e7542959",
   "metadata": {},
   "source": [
    "This is created based on popular korean drinking game called 'Apartment'. The game will start off with singing the song 'Apateau Apateau', once finished we randomly stacked our hand on top of each others. Then one person will call out the number and moving our hand to the top one by one starting from bottom and stopped at the called out number. Whoever hand is the at the top will have to take a shot."
   ]
  },
  {
   "cell_type": "code",
   "execution_count": 185,
   "id": "4811c77e",
   "metadata": {},
   "outputs": [],
   "source": [
    "import random"
   ]
  },
  {
   "cell_type": "code",
   "execution_count": 186,
   "id": "daf229d9",
   "metadata": {},
   "outputs": [],
   "source": [
    "def randomized(num_hands):\n",
    "    gen = random.randrange(1,num_hands+1)\n",
    "    return gen"
   ]
  },
  {
   "cell_type": "code",
   "execution_count": 187,
   "id": "2f890c4d",
   "metadata": {},
   "outputs": [],
   "source": [
    "def check(num_hands,num_list,your_num):\n",
    "    \n",
    "    number = your_num \n",
    "    \n",
    "    while True:\n",
    "        if number not in num_list:\n",
    "            break\n",
    "        else:\n",
    "            number = randomzied(num_hands)\n",
    "            \n",
    "    return number"
   ]
  },
  {
   "cell_type": "code",
   "execution_count": 188,
   "id": "c0691594",
   "metadata": {},
   "outputs": [],
   "source": [
    "def final_check(num_hands,your_num, num_list):\n",
    "    pick = randomized(num_hands)\n",
    "    final_pick = num_list[-pick]\n",
    "    if final_pick in your_num:\n",
    "        print(f\"One shot!!!, final number is {final_pick}. Your number is {your_num}.\")\n",
    "    else:\n",
    "        print(f\"You are safe, final number is {final_pick}. Your number is {your_num}.\")"
   ]
  },
  {
   "cell_type": "code",
   "execution_count": 189,
   "id": "8e27f348",
   "metadata": {},
   "outputs": [],
   "source": [
    "def game():\n",
    "    # please select number of player\n",
    "    player_num = int(input(\"Please select number of player: \"))\n",
    "    num_hands = player_num * 2\n",
    "    \n",
    "    num_list = [i for i in range(1,num_hands+1)]\n",
    "    \n",
    "    \n",
    "    # randomly assigned your number\n",
    "    your_num = []\n",
    "    for _ in range(2):\n",
    "        your_num.append(check(num_hands,your_num,randomized(num_hands)))\n",
    "    \n",
    "    # pick on who lose\n",
    "    final_check(num_hands, your_num,num_list)"
   ]
  },
  {
   "cell_type": "code",
   "execution_count": 191,
   "id": "4cb20297",
   "metadata": {},
   "outputs": [
    {
     "name": "stdout",
     "output_type": "stream",
     "text": [
      "do you want to play again?Y/N: n\n"
     ]
    }
   ],
   "source": [
    "while input(\"do you want to play again?Y/N: \" ).upper() == \"Y\":\n",
    "    game()\n",
    "    "
   ]
  },
  {
   "cell_type": "code",
   "execution_count": null,
   "id": "9ad96b57",
   "metadata": {},
   "outputs": [],
   "source": []
  }
 ],
 "metadata": {
  "kernelspec": {
   "display_name": "Python 3 (ipykernel)",
   "language": "python",
   "name": "python3"
  },
  "language_info": {
   "codemirror_mode": {
    "name": "ipython",
    "version": 3
   },
   "file_extension": ".py",
   "mimetype": "text/x-python",
   "name": "python",
   "nbconvert_exporter": "python",
   "pygments_lexer": "ipython3",
   "version": "3.9.7"
  }
 },
 "nbformat": 4,
 "nbformat_minor": 5
}
