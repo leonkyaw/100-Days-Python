{
 "cells": [
  {
   "cell_type": "markdown",
   "id": "6449f668",
   "metadata": {},
   "source": [
    "# Korean Drinking Game"
   ]
  },
  {
   "cell_type": "markdown",
   "id": "fd73cdc4",
   "metadata": {},
   "source": [
    "This is the game created based on korean drinking game called 'Apartment'. The game will start off with singing the song 'Apateau Apateau' and then we randomly stacked our hand on top of each others. Then one person will call out the number and we have to move our hand to the top one by one and stopped at the called out number. Whoever hand is the at the top will have to take a shot."
   ]
  },
  {
   "cell_type": "code",
   "execution_count": 172,
   "id": "0e8e5c59",
   "metadata": {},
   "outputs": [],
   "source": [
    "import random"
   ]
  },
  {
   "cell_type": "code",
   "execution_count": 173,
   "id": "97e4f403",
   "metadata": {},
   "outputs": [],
   "source": [
    "def randomized(num_hands):\n",
    "    gen = random.randrange(1,num_hands+1)\n",
    "    return gen"
   ]
  },
  {
   "cell_type": "code",
   "execution_count": 174,
   "id": "652bc737",
   "metadata": {},
   "outputs": [],
   "source": [
    "def check(num_hands,num_list,your_num):\n",
    "    \n",
    "    while True:\n",
    "        if your_num not in num_list:\n",
    "            number = your_num\n",
    "            break\n",
    "        else:\n",
    "            number = randomzied(num_hands)\n",
    "    return number"
   ]
  },
  {
   "cell_type": "code",
   "execution_count": 175,
   "id": "29a3d285",
   "metadata": {},
   "outputs": [],
   "source": [
    "def final_check(num_hands,your_num, num_list):\n",
    "    pick = randomized(num_hands)\n",
    "    final_pick = num_list[-pick]\n",
    "    if final_pick in your_num:\n",
    "        print(f\"One shot!!!, final number is {final_pick}. Your number are {your_num}.\")\n",
    "    else:\n",
    "        print(f\"You are safe, final number is {final_pick}. Your number are {your_num}.\")"
   ]
  },
  {
   "cell_type": "code",
   "execution_count": 176,
   "id": "2a3905dc",
   "metadata": {},
   "outputs": [],
   "source": [
    "def game():\n",
    "    # please select number of player\n",
    "    player_num = int(input(\"Please select number of player: \"))\n",
    "    num_hands = player_num * 2\n",
    "    \n",
    "    num_list = [i for i in range(1,num_hands+1)]\n",
    "    \n",
    "    \n",
    "    # randomly assigned your number\n",
    "    your_num = []\n",
    "    for _ in range(2):\n",
    "        your_num.append(check(num_hands,your_num,randomized(num_hands)))\n",
    "    \n",
    "    # pick on who lose\n",
    "    final_check(num_hands, your_num,num_list)"
   ]
  },
  {
   "cell_type": "code",
   "execution_count": 178,
   "id": "05142c40",
   "metadata": {},
   "outputs": [
    {
     "name": "stdout",
     "output_type": "stream",
     "text": [
      "do you want to play again?Y/N: n\n"
     ]
    }
   ],
   "source": [
    "while input(\"do you want to play again?Y/N: \" ).upper() == \"Y\":\n",
    "    game()\n",
    "    "
   ]
  },
  {
   "cell_type": "code",
   "execution_count": null,
   "id": "0a8db926",
   "metadata": {},
   "outputs": [],
   "source": []
  }
 ],
 "metadata": {
  "kernelspec": {
   "display_name": "Python 3 (ipykernel)",
   "language": "python",
   "name": "python3"
  },
  "language_info": {
   "codemirror_mode": {
    "name": "ipython",
    "version": 3
   },
   "file_extension": ".py",
   "mimetype": "text/x-python",
   "name": "python",
   "nbconvert_exporter": "python",
   "pygments_lexer": "ipython3",
   "version": "3.9.7"
  }
 },
 "nbformat": 4,
 "nbformat_minor": 5
}
